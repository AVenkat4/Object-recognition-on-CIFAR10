{
 "cells": [
  {
   "cell_type": "code",
   "execution_count": 1,
   "metadata": {},
   "outputs": [
    {
     "name": "stderr",
     "output_type": "stream",
     "text": [
      "Using TensorFlow backend.\n"
     ]
    }
   ],
   "source": [
    "from keras.datasets import cifar10\n",
    "from keras.models import Sequential\n",
    "from keras.layers import Dense\n",
    "from keras.layers import Dropout\n",
    "from keras.layers import Flatten\n",
    "from keras.constraints import maxnorm\n",
    "from keras.optimizers import SGD\n",
    "from keras.layers.convolutional import Conv2D\n",
    "from keras.layers.convolutional import MaxPooling2D\n",
    "from keras.utils import np_utils\n",
    "from keras import backend as K\n",
    "K.set_image_dim_ordering('th')"
   ]
  },
  {
   "cell_type": "code",
   "execution_count": 2,
   "metadata": {
    "collapsed": true
   },
   "outputs": [],
   "source": [
    "import numpy as np\n",
    "seed = 7\n",
    "np.random.seed(seed)"
   ]
  },
  {
   "cell_type": "code",
   "execution_count": 3,
   "metadata": {
    "collapsed": true
   },
   "outputs": [],
   "source": [
    "cifar10_dir = 'cs231n/datasets/cifar-10-batches-py'\n",
    "from scipy.misc import imread"
   ]
  },
  {
   "cell_type": "code",
   "execution_count": 4,
   "metadata": {
    "collapsed": true
   },
   "outputs": [],
   "source": [
    "from six.moves import cPickle as pickle\n",
    "import platform"
   ]
  },
  {
   "cell_type": "code",
   "execution_count": 5,
   "metadata": {
    "collapsed": true
   },
   "outputs": [],
   "source": [
    "def load_pickle(f):\n",
    "    return pickle.load(f, encoding = 'latin1')"
   ]
  },
  {
   "cell_type": "code",
   "execution_count": 6,
   "metadata": {
    "collapsed": true
   },
   "outputs": [],
   "source": [
    "def load_CIFAR_batch(filename):\n",
    "    with open(filename, 'rb') as f:\n",
    "        datadict = load_pickle(f)\n",
    "        X = datadict['data']\n",
    "        Y = datadict['labels']\n",
    "        X = X.reshape(10000, 3, 32, 32).transpose(0,2,3,1).astype(\"float\")\n",
    "        Y = np.array(Y)\n",
    "        return X, Y"
   ]
  },
  {
   "cell_type": "code",
   "execution_count": 7,
   "metadata": {
    "collapsed": true
   },
   "outputs": [],
   "source": [
    "def load_CIFAR10():\n",
    "    xs = []\n",
    "    ys = []\n",
    "    root = 'C:\\\\Users\\\\Abarn\\\\Documents\\\\assignment1\\\\cs231n\\\\datasets\\\\cifar-10-batches-py'\n",
    "    for b in range(1,6):\n",
    "        f = os.path.join(root, 'data_batch_%d'%(b, ))\n",
    "        X, Y = load_CIFAR_batch(f)\n",
    "        xs.append(X)\n",
    "        ys.append(Y)\n",
    "    Xtr = np.concatenate(xs)\n",
    "    Ytr = np.concatenate(ys)\n",
    "    del X, Y\n",
    "    Xte, Yte = load_CIFAR_batch(os.path.join(root,'test_batch'))\n",
    "    return Xtr, Ytr, Xte, Yte"
   ]
  },
  {
   "cell_type": "code",
   "execution_count": 8,
   "metadata": {
    "collapsed": true
   },
   "outputs": [],
   "source": [
    "import os\n",
    "X_train, y_train, X_test, y_test = load_CIFAR10()"
   ]
  },
  {
   "cell_type": "code",
   "execution_count": 9,
   "metadata": {},
   "outputs": [
    {
     "name": "stdout",
     "output_type": "stream",
     "text": [
      "Training data shape:  (50000, 32, 32, 3)\n",
      "Training labels shape:  (50000,)\n",
      "Test data shape:  (10000, 32, 32, 3)\n",
      "Test labels shape:  (10000,)\n",
      "Test data shape:  (10000, 32, 32, 3)\n"
     ]
    }
   ],
   "source": [
    "print('Training data shape: ', X_train.shape)\n",
    "print('Training labels shape: ', y_train.shape)\n",
    "print('Test data shape: ', X_test.shape)\n",
    "print('Test labels shape: ', y_test.shape)\n",
    "X_train = X_train.astype('float32')\n",
    "X_test = X_test.astype('float32')\n",
    "X_train = X_train/255.0\n",
    "X_test = X_test/255.0\n",
    "print('Test data shape: ', X_test.shape)"
   ]
  },
  {
   "cell_type": "code",
   "execution_count": 10,
   "metadata": {},
   "outputs": [
    {
     "data": {
      "text/plain": [
       "(10000, 32, 32, 3)"
      ]
     },
     "execution_count": 10,
     "metadata": {},
     "output_type": "execute_result"
    }
   ],
   "source": [
    "y_train = np_utils.to_categorical(y_train)\n",
    "y_test = np_utils.to_categorical(y_test)\n",
    "num_classes = y_test.shape[1]\n",
    "X_test.shape"
   ]
  },
  {
   "cell_type": "code",
   "execution_count": 11,
   "metadata": {
    "collapsed": true
   },
   "outputs": [],
   "source": [
    "model = Sequential()\n",
    "model.add(Conv2D(32, (3, 3), input_shape = (3, 32, 32), padding = 'same', activation = 'relu', kernel_constraint = maxnorm(3)))\n",
    "model.add(Dropout(0.2))\n",
    "model.add(Conv2D(32, (3, 3), padding = 'same', activation = 'relu', kernel_constraint = maxnorm(3)))\n",
    "model.add(MaxPooling2D(pool_size = (2,2)))\n",
    "model.add(Flatten())\n",
    "model.add(Dense(512, activation = 'relu', kernel_constraint = maxnorm(3)))\n",
    "model.add(Dropout(0.5))\n",
    "model.add(Dense(num_classes, activation = 'softmax'))\n",
    "\n",
    "epochs = 25\n",
    "lrate = 0.01\n",
    "decay = lrate/epochs\n",
    "sgd = SGD(lr = lrate, momentum = 0.9, decay = decay, nesterov = False)\n",
    "model.compile(loss = 'categorical_crossentropy', optimizer = sgd, metrics = ['accuracy'])\n"
   ]
  },
  {
   "cell_type": "code",
   "execution_count": 13,
   "metadata": {
    "scrolled": true
   },
   "outputs": [
    {
     "name": "stdout",
     "output_type": "stream",
     "text": [
      "_________________________________________________________________\n",
      "Layer (type)                 Output Shape              Param #   \n",
      "=================================================================\n",
      "conv2d_1 (Conv2D)            (None, 32, 32, 32)        896       \n",
      "_________________________________________________________________\n",
      "dropout_1 (Dropout)          (None, 32, 32, 32)        0         \n",
      "_________________________________________________________________\n",
      "conv2d_2 (Conv2D)            (None, 32, 32, 32)        9248      \n",
      "_________________________________________________________________\n",
      "max_pooling2d_1 (MaxPooling2 (None, 32, 16, 16)        0         \n",
      "_________________________________________________________________\n",
      "flatten_1 (Flatten)          (None, 8192)              0         \n",
      "_________________________________________________________________\n",
      "dense_1 (Dense)              (None, 512)               4194816   \n",
      "_________________________________________________________________\n",
      "dropout_2 (Dropout)          (None, 512)               0         \n",
      "_________________________________________________________________\n",
      "dense_2 (Dense)              (None, 10)                5130      \n",
      "=================================================================\n",
      "Total params: 4,210,090\n",
      "Trainable params: 4,210,090\n",
      "Non-trainable params: 0\n",
      "_________________________________________________________________\n",
      "None\n"
     ]
    },
    {
     "data": {
      "text/plain": [
       "(10000, 32, 32, 3)"
      ]
     },
     "execution_count": 13,
     "metadata": {},
     "output_type": "execute_result"
    }
   ],
   "source": [
    "print(model.summary())\n",
    "X_test.shape"
   ]
  },
  {
   "cell_type": "code",
   "execution_count": 14,
   "metadata": {
    "scrolled": true
   },
   "outputs": [
    {
     "name": "stdout",
     "output_type": "stream",
     "text": [
      "(50000, 32, 32, 3)\n",
      "(50000, 3, 32, 32)\n",
      "Train on 50000 samples, validate on 10000 samples\n",
      "Epoch 1/25\n",
      "50000/50000 [==============================] - 116s 2ms/step - loss: 1.7238 - acc: 0.3745 - val_loss: 1.3949 - val_acc: 0.4972\n",
      "Epoch 2/25\n",
      "50000/50000 [==============================] - 109s 2ms/step - loss: 1.3594 - acc: 0.5112 - val_loss: 1.2498 - val_acc: 0.5601\n",
      "Epoch 3/25\n",
      "50000/50000 [==============================] - 110s 2ms/step - loss: 1.1913 - acc: 0.5755 - val_loss: 1.0919 - val_acc: 0.6110\n",
      "Epoch 4/25\n",
      "50000/50000 [==============================] - 109s 2ms/step - loss: 1.0620 - acc: 0.6240 - val_loss: 1.0479 - val_acc: 0.6289\n",
      "Epoch 5/25\n",
      "50000/50000 [==============================] - 107s 2ms/step - loss: 0.9563 - acc: 0.6581 - val_loss: 0.9692 - val_acc: 0.6595\n",
      "Epoch 6/25\n",
      "50000/50000 [==============================] - 106s 2ms/step - loss: 0.8730 - acc: 0.6941 - val_loss: 0.9477 - val_acc: 0.6644\n",
      "Epoch 7/25\n",
      "50000/50000 [==============================] - 107s 2ms/step - loss: 0.7988 - acc: 0.7169 - val_loss: 0.9017 - val_acc: 0.6854\n",
      "Epoch 8/25\n",
      "50000/50000 [==============================] - 107s 2ms/step - loss: 0.7328 - acc: 0.7404 - val_loss: 0.9009 - val_acc: 0.6887\n",
      "Epoch 9/25\n",
      "50000/50000 [==============================] - 107s 2ms/step - loss: 0.6770 - acc: 0.7602 - val_loss: 0.8870 - val_acc: 0.6944\n",
      "Epoch 10/25\n",
      "50000/50000 [==============================] - 108s 2ms/step - loss: 0.6266 - acc: 0.7778 - val_loss: 0.8789 - val_acc: 0.69764s - lo\n",
      "Epoch 11/25\n",
      "50000/50000 [==============================] - 109s 2ms/step - loss: 0.5779 - acc: 0.7969 - val_loss: 0.8941 - val_acc: 0.7002\n",
      "Epoch 12/25\n",
      "50000/50000 [==============================] - 107s 2ms/step - loss: 0.5382 - acc: 0.8100 - val_loss: 0.8941 - val_acc: 0.7017\n",
      "Epoch 13/25\n",
      "50000/50000 [==============================] - 107s 2ms/step - loss: 0.5001 - acc: 0.8240 - val_loss: 0.8829 - val_acc: 0.7057\n",
      "Epoch 14/25\n",
      "50000/50000 [==============================] - 107s 2ms/step - loss: 0.4685 - acc: 0.8347 - val_loss: 0.8968 - val_acc: 0.7068\n",
      "Epoch 15/25\n",
      "50000/50000 [==============================] - 108s 2ms/step - loss: 0.4333 - acc: 0.8462 - val_loss: 0.9141 - val_acc: 0.7119\n",
      "Epoch 16/25\n",
      "50000/50000 [==============================] - 107s 2ms/step - loss: 0.4073 - acc: 0.8564 - val_loss: 0.9309 - val_acc: 0.7073\n",
      "Epoch 17/25\n",
      "50000/50000 [==============================] - 107s 2ms/step - loss: 0.3807 - acc: 0.8665 - val_loss: 0.9296 - val_acc: 0.7078\n",
      "Epoch 18/25\n",
      "50000/50000 [==============================] - 110s 2ms/step - loss: 0.3648 - acc: 0.8712 - val_loss: 0.9331 - val_acc: 0.7112\n",
      "Epoch 19/25\n",
      "50000/50000 [==============================] - 112s 2ms/step - loss: 0.3395 - acc: 0.8818 - val_loss: 0.9439 - val_acc: 0.7127\n",
      "Epoch 20/25\n",
      "50000/50000 [==============================] - 111s 2ms/step - loss: 0.3161 - acc: 0.8893 - val_loss: 0.9712 - val_acc: 0.7131\n",
      "Epoch 21/25\n",
      "50000/50000 [==============================] - 111s 2ms/step - loss: 0.3011 - acc: 0.8957 - val_loss: 0.9636 - val_acc: 0.7149\n",
      "Epoch 22/25\n",
      "50000/50000 [==============================] - 107s 2ms/step - loss: 0.2862 - acc: 0.9010 - val_loss: 0.9742 - val_acc: 0.7156\n",
      "Epoch 23/25\n",
      "50000/50000 [==============================] - 106s 2ms/step - loss: 0.2690 - acc: 0.9061 - val_loss: 1.0061 - val_acc: 0.7148\n",
      "Epoch 24/25\n",
      "50000/50000 [==============================] - 106s 2ms/step - loss: 0.2555 - acc: 0.9122 - val_loss: 1.0007 - val_acc: 0.7150\n",
      "Epoch 25/25\n",
      "50000/50000 [==============================] - 106s 2ms/step - loss: 0.2486 - acc: 0.9127 - val_loss: 1.0089 - val_acc: 0.7130\n",
      "Accuracy:71.30%\n"
     ]
    }
   ],
   "source": [
    "print(X_train.shape)\n",
    "X_train = X_train.transpose(0,3,1,2)\n",
    "X_test = X_test.transpose(0,3,1,2)\n",
    "print(X_train.shape)\n",
    "model.fit(X_train, y_train, validation_data = (X_test, y_test), epochs = epochs, batch_size = 32 )\n",
    "scores = model.evaluate(X_test, y_test, verbose = 0)\n",
    "print(\"Accuracy:%.2f%%\"%(scores[1]*100))"
   ]
  },
  {
   "cell_type": "code",
   "execution_count": 27,
   "metadata": {},
   "outputs": [
    {
     "name": "stdout",
     "output_type": "stream",
     "text": [
      "[8 8 0 6 6 1 6 3 1]\n"
     ]
    }
   ],
   "source": [
    "prediction = model.predict(X_test[1:10])\n",
    "prediction = np.array([np.argmax(prediction[i]) for i in range(len(prediction))])\n",
    "#prediction = np_utils.to_categorical(prediction)\n",
    "print(prediction)"
   ]
  },
  {
   "cell_type": "code",
   "execution_count": 24,
   "metadata": {},
   "outputs": [
    {
     "data": {
      "text/plain": [
       "2"
      ]
     },
     "execution_count": 24,
     "metadata": {},
     "output_type": "execute_result"
    }
   ],
   "source": []
  },
  {
   "cell_type": "code",
   "execution_count": 60,
   "metadata": {},
   "outputs": [
    {
     "data": {
      "text/plain": [
       "(50000, 10)"
      ]
     },
     "execution_count": 60,
     "metadata": {},
     "output_type": "execute_result"
    }
   ],
   "source": [
    "y_train.shape"
   ]
  },
  {
   "cell_type": "code",
   "execution_count": 61,
   "metadata": {},
   "outputs": [
    {
     "data": {
      "text/plain": [
       "(10000, 10)"
      ]
     },
     "execution_count": 61,
     "metadata": {},
     "output_type": "execute_result"
    }
   ],
   "source": [
    "y_test.shape"
   ]
  },
  {
   "cell_type": "code",
   "execution_count": null,
   "metadata": {
    "collapsed": true
   },
   "outputs": [],
   "source": []
  }
 ],
 "metadata": {
  "kernelspec": {
   "display_name": "Python 3",
   "language": "python",
   "name": "python3"
  },
  "language_info": {
   "codemirror_mode": {
    "name": "ipython",
    "version": 3
   },
   "file_extension": ".py",
   "mimetype": "text/x-python",
   "name": "python",
   "nbconvert_exporter": "python",
   "pygments_lexer": "ipython3",
   "version": "3.6.1"
  }
 },
 "nbformat": 4,
 "nbformat_minor": 2
}
